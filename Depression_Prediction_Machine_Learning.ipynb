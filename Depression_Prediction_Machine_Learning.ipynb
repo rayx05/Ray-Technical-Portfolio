{
  "cells": [
    {
      "cell_type": "markdown",
      "source": [
        "###BUS 241A: Machine Learning\n",
        "###Final Group Project\n",
        "###Ray & Obaidullah\n",
        "\n"
      ],
      "metadata": {
        "id": "EqaoeEhBvHSj"
      },
      "id": "EqaoeEhBvHSj"
    },
    {
      "cell_type": "markdown",
      "source": [
        "Dataset Name: Student Depression Dataset\\\n",
        "Source: Kaggle\\\n",
        "https://www.kaggle.com/datasets/hopesb/student-depression-dataset\n"
      ],
      "metadata": {
        "id": "_SZ9q76Ndp-Z"
      },
      "id": "_SZ9q76Ndp-Z"
    },
    {
      "cell_type": "code",
      "source": [
        "import pandas as pd\n",
        "import numpy as np\n",
        "import matplotlib.pyplot as plt\n",
        "import seaborn as sns\n",
        "\n",
        "from google.colab import drive\n",
        "drive.mount('/content/gdrive')\n",
        "\n",
        "import pandas as pd\n",
        "df = pd.read_csv('gdrive/My Drive/Fall 2024/BUS 241A: Machine Learning/Final Project/Student Depression Dataset.csv')\n",
        "df.head()\n",
        "\n",
        "cnt = df.count\n",
        "print (cnt)\n",
        "\n"
      ],
      "metadata": {
        "id": "5gGMsoUvviw4",
        "colab": {
          "base_uri": "https://localhost:8080/"
        },
        "outputId": "4ab217c1-0141-40a2-c604-02089439018a"
      },
      "id": "5gGMsoUvviw4",
      "execution_count": null,
      "outputs": [
        {
          "output_type": "stream",
          "name": "stdout",
          "text": [
            "Drive already mounted at /content/gdrive; to attempt to forcibly remount, call drive.mount(\"/content/gdrive\", force_remount=True).\n",
            "<bound method DataFrame.count of            id  Gender   Age           City Profession  Academic Pressure  \\\n",
            "0           2    Male  33.0  Visakhapatnam    Student                5.0   \n",
            "1           8  Female  24.0      Bangalore    Student                2.0   \n",
            "2          26    Male  31.0       Srinagar    Student                3.0   \n",
            "3          30  Female  28.0       Varanasi    Student                3.0   \n",
            "4          32  Female  25.0         Jaipur    Student                4.0   \n",
            "...       ...     ...   ...            ...        ...                ...   \n",
            "27896  140685  Female  27.0          Surat    Student                5.0   \n",
            "27897  140686    Male  27.0       Ludhiana    Student                2.0   \n",
            "27898  140689    Male  31.0      Faridabad    Student                3.0   \n",
            "27899  140690  Female  18.0       Ludhiana    Student                5.0   \n",
            "27900  140699    Male  27.0          Patna    Student                4.0   \n",
            "\n",
            "       Work Pressure  CGPA  Study Satisfaction  Job Satisfaction  \\\n",
            "0                0.0  8.97                 2.0               0.0   \n",
            "1                0.0  5.90                 5.0               0.0   \n",
            "2                0.0  7.03                 5.0               0.0   \n",
            "3                0.0  5.59                 2.0               0.0   \n",
            "4                0.0  8.13                 3.0               0.0   \n",
            "...              ...   ...                 ...               ...   \n",
            "27896            0.0  5.75                 5.0               0.0   \n",
            "27897            0.0  9.40                 3.0               0.0   \n",
            "27898            0.0  6.61                 4.0               0.0   \n",
            "27899            0.0  6.88                 2.0               0.0   \n",
            "27900            0.0  9.24                 1.0               0.0   \n",
            "\n",
            "          Sleep Duration Dietary Habits    Degree  \\\n",
            "0              5-6 hours        Healthy   B.Pharm   \n",
            "1              5-6 hours       Moderate       BSc   \n",
            "2      Less than 5 hours        Healthy        BA   \n",
            "3              7-8 hours       Moderate       BCA   \n",
            "4              5-6 hours       Moderate    M.Tech   \n",
            "...                  ...            ...       ...   \n",
            "27896          5-6 hours      Unhealthy  Class 12   \n",
            "27897  Less than 5 hours        Healthy       MSc   \n",
            "27898          5-6 hours      Unhealthy        MD   \n",
            "27899  Less than 5 hours        Healthy  Class 12   \n",
            "27900  Less than 5 hours        Healthy       BCA   \n",
            "\n",
            "      Have you ever had suicidal thoughts ?  Work/Study Hours  \\\n",
            "0                                       Yes               3.0   \n",
            "1                                        No               3.0   \n",
            "2                                        No               9.0   \n",
            "3                                       Yes               4.0   \n",
            "4                                       Yes               1.0   \n",
            "...                                     ...               ...   \n",
            "27896                                   Yes               7.0   \n",
            "27897                                    No               0.0   \n",
            "27898                                    No              12.0   \n",
            "27899                                   Yes              10.0   \n",
            "27900                                   Yes               2.0   \n",
            "\n",
            "       Financial Stress Family History of Mental Illness  Depression  \n",
            "0                   1.0                               No           1  \n",
            "1                   2.0                              Yes           0  \n",
            "2                   1.0                              Yes           0  \n",
            "3                   5.0                              Yes           1  \n",
            "4                   1.0                               No           0  \n",
            "...                 ...                              ...         ...  \n",
            "27896               1.0                              Yes           0  \n",
            "27897               3.0                              Yes           0  \n",
            "27898               2.0                               No           0  \n",
            "27899               5.0                               No           1  \n",
            "27900               3.0                              Yes           1  \n",
            "\n",
            "[27901 rows x 18 columns]>\n"
          ]
        }
      ]
    },
    {
      "cell_type": "markdown",
      "source": [
        "### Part 1: Decision & Regression Tree"
      ],
      "metadata": {
        "id": "aIUXkFlOb-0c"
      },
      "id": "aIUXkFlOb-0c"
    },
    {
      "cell_type": "markdown",
      "source": [
        "##I. Consultancy: mental health assessment\n",
        "\n",
        "Target variable: depression. Using this model to predict whether a student has depression."
      ],
      "metadata": {
        "id": "_B4DGSe1WmId"
      },
      "id": "_B4DGSe1WmId"
    },
    {
      "cell_type": "markdown",
      "source": [
        "Convert \"sleep duration\" into a numeric variable (kind of like natural language processing but quite simple)"
      ],
      "metadata": {
        "id": "Cun82uj5UG-r"
      },
      "id": "Cun82uj5UG-r"
    },
    {
      "cell_type": "code",
      "source": [
        "for duration in df['Sleep Duration']:\n",
        "  def avg_sleep_time(duration):\n",
        "    if duration == '5-6 hours':\n",
        "      return 5.5\n",
        "    elif duration == '6-7 hours':\n",
        "      return 6.5\n",
        "    elif duration == '7-8 hours':\n",
        "      return 7.5\n",
        "    elif duration == 'Less than 5 hours':\n",
        "      return 5\n",
        "    elif duration == 'More than 8 hours':\n",
        "      return 8\n",
        "\n",
        "df[\"Avg Sleep Duration\"] = df[\"Sleep Duration\"].apply(avg_sleep_time)\n",
        "df.head()\n"
      ],
      "metadata": {
        "colab": {
          "base_uri": "https://localhost:8080/",
          "height": 313
        },
        "id": "FVsPHiqTUdZi",
        "outputId": "517161a0-2551-4d25-95d7-82d4a6629595"
      },
      "id": "FVsPHiqTUdZi",
      "execution_count": null,
      "outputs": [
        {
          "output_type": "execute_result",
          "data": {
            "text/plain": [
              "   id  Gender   Age           City Profession  Academic Pressure  \\\n",
              "0   2    Male  33.0  Visakhapatnam    Student                5.0   \n",
              "1   8  Female  24.0      Bangalore    Student                2.0   \n",
              "2  26    Male  31.0       Srinagar    Student                3.0   \n",
              "3  30  Female  28.0       Varanasi    Student                3.0   \n",
              "4  32  Female  25.0         Jaipur    Student                4.0   \n",
              "\n",
              "   Work Pressure  CGPA  Study Satisfaction  Job Satisfaction  \\\n",
              "0            0.0  8.97                 2.0               0.0   \n",
              "1            0.0  5.90                 5.0               0.0   \n",
              "2            0.0  7.03                 5.0               0.0   \n",
              "3            0.0  5.59                 2.0               0.0   \n",
              "4            0.0  8.13                 3.0               0.0   \n",
              "\n",
              "      Sleep Duration Dietary Habits   Degree  \\\n",
              "0          5-6 hours        Healthy  B.Pharm   \n",
              "1          5-6 hours       Moderate      BSc   \n",
              "2  Less than 5 hours        Healthy       BA   \n",
              "3          7-8 hours       Moderate      BCA   \n",
              "4          5-6 hours       Moderate   M.Tech   \n",
              "\n",
              "  Have you ever had suicidal thoughts ?  Work/Study Hours  Financial Stress  \\\n",
              "0                                   Yes               3.0               1.0   \n",
              "1                                    No               3.0               2.0   \n",
              "2                                    No               9.0               1.0   \n",
              "3                                   Yes               4.0               5.0   \n",
              "4                                   Yes               1.0               1.0   \n",
              "\n",
              "  Family History of Mental Illness  Depression  Avg Sleep Duration  \n",
              "0                               No           1                 5.5  \n",
              "1                              Yes           0                 5.5  \n",
              "2                              Yes           0                 5.0  \n",
              "3                              Yes           1                 7.5  \n",
              "4                               No           0                 5.5  "
            ],
            "text/html": [
              "\n",
              "  <div id=\"df-77ec93b3-85dc-4154-9451-b478b3dbb6ad\" class=\"colab-df-container\">\n",
              "    <div>\n",
              "<style scoped>\n",
              "    .dataframe tbody tr th:only-of-type {\n",
              "        vertical-align: middle;\n",
              "    }\n",
              "\n",
              "    .dataframe tbody tr th {\n",
              "        vertical-align: top;\n",
              "    }\n",
              "\n",
              "    .dataframe thead th {\n",
              "        text-align: right;\n",
              "    }\n",
              "</style>\n",
              "<table border=\"1\" class=\"dataframe\">\n",
              "  <thead>\n",
              "    <tr style=\"text-align: right;\">\n",
              "      <th></th>\n",
              "      <th>id</th>\n",
              "      <th>Gender</th>\n",
              "      <th>Age</th>\n",
              "      <th>City</th>\n",
              "      <th>Profession</th>\n",
              "      <th>Academic Pressure</th>\n",
              "      <th>Work Pressure</th>\n",
              "      <th>CGPA</th>\n",
              "      <th>Study Satisfaction</th>\n",
              "      <th>Job Satisfaction</th>\n",
              "      <th>Sleep Duration</th>\n",
              "      <th>Dietary Habits</th>\n",
              "      <th>Degree</th>\n",
              "      <th>Have you ever had suicidal thoughts ?</th>\n",
              "      <th>Work/Study Hours</th>\n",
              "      <th>Financial Stress</th>\n",
              "      <th>Family History of Mental Illness</th>\n",
              "      <th>Depression</th>\n",
              "      <th>Avg Sleep Duration</th>\n",
              "    </tr>\n",
              "  </thead>\n",
              "  <tbody>\n",
              "    <tr>\n",
              "      <th>0</th>\n",
              "      <td>2</td>\n",
              "      <td>Male</td>\n",
              "      <td>33.0</td>\n",
              "      <td>Visakhapatnam</td>\n",
              "      <td>Student</td>\n",
              "      <td>5.0</td>\n",
              "      <td>0.0</td>\n",
              "      <td>8.97</td>\n",
              "      <td>2.0</td>\n",
              "      <td>0.0</td>\n",
              "      <td>5-6 hours</td>\n",
              "      <td>Healthy</td>\n",
              "      <td>B.Pharm</td>\n",
              "      <td>Yes</td>\n",
              "      <td>3.0</td>\n",
              "      <td>1.0</td>\n",
              "      <td>No</td>\n",
              "      <td>1</td>\n",
              "      <td>5.5</td>\n",
              "    </tr>\n",
              "    <tr>\n",
              "      <th>1</th>\n",
              "      <td>8</td>\n",
              "      <td>Female</td>\n",
              "      <td>24.0</td>\n",
              "      <td>Bangalore</td>\n",
              "      <td>Student</td>\n",
              "      <td>2.0</td>\n",
              "      <td>0.0</td>\n",
              "      <td>5.90</td>\n",
              "      <td>5.0</td>\n",
              "      <td>0.0</td>\n",
              "      <td>5-6 hours</td>\n",
              "      <td>Moderate</td>\n",
              "      <td>BSc</td>\n",
              "      <td>No</td>\n",
              "      <td>3.0</td>\n",
              "      <td>2.0</td>\n",
              "      <td>Yes</td>\n",
              "      <td>0</td>\n",
              "      <td>5.5</td>\n",
              "    </tr>\n",
              "    <tr>\n",
              "      <th>2</th>\n",
              "      <td>26</td>\n",
              "      <td>Male</td>\n",
              "      <td>31.0</td>\n",
              "      <td>Srinagar</td>\n",
              "      <td>Student</td>\n",
              "      <td>3.0</td>\n",
              "      <td>0.0</td>\n",
              "      <td>7.03</td>\n",
              "      <td>5.0</td>\n",
              "      <td>0.0</td>\n",
              "      <td>Less than 5 hours</td>\n",
              "      <td>Healthy</td>\n",
              "      <td>BA</td>\n",
              "      <td>No</td>\n",
              "      <td>9.0</td>\n",
              "      <td>1.0</td>\n",
              "      <td>Yes</td>\n",
              "      <td>0</td>\n",
              "      <td>5.0</td>\n",
              "    </tr>\n",
              "    <tr>\n",
              "      <th>3</th>\n",
              "      <td>30</td>\n",
              "      <td>Female</td>\n",
              "      <td>28.0</td>\n",
              "      <td>Varanasi</td>\n",
              "      <td>Student</td>\n",
              "      <td>3.0</td>\n",
              "      <td>0.0</td>\n",
              "      <td>5.59</td>\n",
              "      <td>2.0</td>\n",
              "      <td>0.0</td>\n",
              "      <td>7-8 hours</td>\n",
              "      <td>Moderate</td>\n",
              "      <td>BCA</td>\n",
              "      <td>Yes</td>\n",
              "      <td>4.0</td>\n",
              "      <td>5.0</td>\n",
              "      <td>Yes</td>\n",
              "      <td>1</td>\n",
              "      <td>7.5</td>\n",
              "    </tr>\n",
              "    <tr>\n",
              "      <th>4</th>\n",
              "      <td>32</td>\n",
              "      <td>Female</td>\n",
              "      <td>25.0</td>\n",
              "      <td>Jaipur</td>\n",
              "      <td>Student</td>\n",
              "      <td>4.0</td>\n",
              "      <td>0.0</td>\n",
              "      <td>8.13</td>\n",
              "      <td>3.0</td>\n",
              "      <td>0.0</td>\n",
              "      <td>5-6 hours</td>\n",
              "      <td>Moderate</td>\n",
              "      <td>M.Tech</td>\n",
              "      <td>Yes</td>\n",
              "      <td>1.0</td>\n",
              "      <td>1.0</td>\n",
              "      <td>No</td>\n",
              "      <td>0</td>\n",
              "      <td>5.5</td>\n",
              "    </tr>\n",
              "  </tbody>\n",
              "</table>\n",
              "</div>\n",
              "    <div class=\"colab-df-buttons\">\n",
              "\n",
              "  <div class=\"colab-df-container\">\n",
              "    <button class=\"colab-df-convert\" onclick=\"convertToInteractive('df-77ec93b3-85dc-4154-9451-b478b3dbb6ad')\"\n",
              "            title=\"Convert this dataframe to an interactive table.\"\n",
              "            style=\"display:none;\">\n",
              "\n",
              "  <svg xmlns=\"http://www.w3.org/2000/svg\" height=\"24px\" viewBox=\"0 -960 960 960\">\n",
              "    <path d=\"M120-120v-720h720v720H120Zm60-500h600v-160H180v160Zm220 220h160v-160H400v160Zm0 220h160v-160H400v160ZM180-400h160v-160H180v160Zm440 0h160v-160H620v160ZM180-180h160v-160H180v160Zm440 0h160v-160H620v160Z\"/>\n",
              "  </svg>\n",
              "    </button>\n",
              "\n",
              "  <style>\n",
              "    .colab-df-container {\n",
              "      display:flex;\n",
              "      gap: 12px;\n",
              "    }\n",
              "\n",
              "    .colab-df-convert {\n",
              "      background-color: #E8F0FE;\n",
              "      border: none;\n",
              "      border-radius: 50%;\n",
              "      cursor: pointer;\n",
              "      display: none;\n",
              "      fill: #1967D2;\n",
              "      height: 32px;\n",
              "      padding: 0 0 0 0;\n",
              "      width: 32px;\n",
              "    }\n",
              "\n",
              "    .colab-df-convert:hover {\n",
              "      background-color: #E2EBFA;\n",
              "      box-shadow: 0px 1px 2px rgba(60, 64, 67, 0.3), 0px 1px 3px 1px rgba(60, 64, 67, 0.15);\n",
              "      fill: #174EA6;\n",
              "    }\n",
              "\n",
              "    .colab-df-buttons div {\n",
              "      margin-bottom: 4px;\n",
              "    }\n",
              "\n",
              "    [theme=dark] .colab-df-convert {\n",
              "      background-color: #3B4455;\n",
              "      fill: #D2E3FC;\n",
              "    }\n",
              "\n",
              "    [theme=dark] .colab-df-convert:hover {\n",
              "      background-color: #434B5C;\n",
              "      box-shadow: 0px 1px 3px 1px rgba(0, 0, 0, 0.15);\n",
              "      filter: drop-shadow(0px 1px 2px rgba(0, 0, 0, 0.3));\n",
              "      fill: #FFFFFF;\n",
              "    }\n",
              "  </style>\n",
              "\n",
              "    <script>\n",
              "      const buttonEl =\n",
              "        document.querySelector('#df-77ec93b3-85dc-4154-9451-b478b3dbb6ad button.colab-df-convert');\n",
              "      buttonEl.style.display =\n",
              "        google.colab.kernel.accessAllowed ? 'block' : 'none';\n",
              "\n",
              "      async function convertToInteractive(key) {\n",
              "        const element = document.querySelector('#df-77ec93b3-85dc-4154-9451-b478b3dbb6ad');\n",
              "        const dataTable =\n",
              "          await google.colab.kernel.invokeFunction('convertToInteractive',\n",
              "                                                    [key], {});\n",
              "        if (!dataTable) return;\n",
              "\n",
              "        const docLinkHtml = 'Like what you see? Visit the ' +\n",
              "          '<a target=\"_blank\" href=https://colab.research.google.com/notebooks/data_table.ipynb>data table notebook</a>'\n",
              "          + ' to learn more about interactive tables.';\n",
              "        element.innerHTML = '';\n",
              "        dataTable['output_type'] = 'display_data';\n",
              "        await google.colab.output.renderOutput(dataTable, element);\n",
              "        const docLink = document.createElement('div');\n",
              "        docLink.innerHTML = docLinkHtml;\n",
              "        element.appendChild(docLink);\n",
              "      }\n",
              "    </script>\n",
              "  </div>\n",
              "\n",
              "\n",
              "<div id=\"df-ab058fc1-9fad-4cbe-a31e-41d4f8489dcf\">\n",
              "  <button class=\"colab-df-quickchart\" onclick=\"quickchart('df-ab058fc1-9fad-4cbe-a31e-41d4f8489dcf')\"\n",
              "            title=\"Suggest charts\"\n",
              "            style=\"display:none;\">\n",
              "\n",
              "<svg xmlns=\"http://www.w3.org/2000/svg\" height=\"24px\"viewBox=\"0 0 24 24\"\n",
              "     width=\"24px\">\n",
              "    <g>\n",
              "        <path d=\"M19 3H5c-1.1 0-2 .9-2 2v14c0 1.1.9 2 2 2h14c1.1 0 2-.9 2-2V5c0-1.1-.9-2-2-2zM9 17H7v-7h2v7zm4 0h-2V7h2v10zm4 0h-2v-4h2v4z\"/>\n",
              "    </g>\n",
              "</svg>\n",
              "  </button>\n",
              "\n",
              "<style>\n",
              "  .colab-df-quickchart {\n",
              "      --bg-color: #E8F0FE;\n",
              "      --fill-color: #1967D2;\n",
              "      --hover-bg-color: #E2EBFA;\n",
              "      --hover-fill-color: #174EA6;\n",
              "      --disabled-fill-color: #AAA;\n",
              "      --disabled-bg-color: #DDD;\n",
              "  }\n",
              "\n",
              "  [theme=dark] .colab-df-quickchart {\n",
              "      --bg-color: #3B4455;\n",
              "      --fill-color: #D2E3FC;\n",
              "      --hover-bg-color: #434B5C;\n",
              "      --hover-fill-color: #FFFFFF;\n",
              "      --disabled-bg-color: #3B4455;\n",
              "      --disabled-fill-color: #666;\n",
              "  }\n",
              "\n",
              "  .colab-df-quickchart {\n",
              "    background-color: var(--bg-color);\n",
              "    border: none;\n",
              "    border-radius: 50%;\n",
              "    cursor: pointer;\n",
              "    display: none;\n",
              "    fill: var(--fill-color);\n",
              "    height: 32px;\n",
              "    padding: 0;\n",
              "    width: 32px;\n",
              "  }\n",
              "\n",
              "  .colab-df-quickchart:hover {\n",
              "    background-color: var(--hover-bg-color);\n",
              "    box-shadow: 0 1px 2px rgba(60, 64, 67, 0.3), 0 1px 3px 1px rgba(60, 64, 67, 0.15);\n",
              "    fill: var(--button-hover-fill-color);\n",
              "  }\n",
              "\n",
              "  .colab-df-quickchart-complete:disabled,\n",
              "  .colab-df-quickchart-complete:disabled:hover {\n",
              "    background-color: var(--disabled-bg-color);\n",
              "    fill: var(--disabled-fill-color);\n",
              "    box-shadow: none;\n",
              "  }\n",
              "\n",
              "  .colab-df-spinner {\n",
              "    border: 2px solid var(--fill-color);\n",
              "    border-color: transparent;\n",
              "    border-bottom-color: var(--fill-color);\n",
              "    animation:\n",
              "      spin 1s steps(1) infinite;\n",
              "  }\n",
              "\n",
              "  @keyframes spin {\n",
              "    0% {\n",
              "      border-color: transparent;\n",
              "      border-bottom-color: var(--fill-color);\n",
              "      border-left-color: var(--fill-color);\n",
              "    }\n",
              "    20% {\n",
              "      border-color: transparent;\n",
              "      border-left-color: var(--fill-color);\n",
              "      border-top-color: var(--fill-color);\n",
              "    }\n",
              "    30% {\n",
              "      border-color: transparent;\n",
              "      border-left-color: var(--fill-color);\n",
              "      border-top-color: var(--fill-color);\n",
              "      border-right-color: var(--fill-color);\n",
              "    }\n",
              "    40% {\n",
              "      border-color: transparent;\n",
              "      border-right-color: var(--fill-color);\n",
              "      border-top-color: var(--fill-color);\n",
              "    }\n",
              "    60% {\n",
              "      border-color: transparent;\n",
              "      border-right-color: var(--fill-color);\n",
              "    }\n",
              "    80% {\n",
              "      border-color: transparent;\n",
              "      border-right-color: var(--fill-color);\n",
              "      border-bottom-color: var(--fill-color);\n",
              "    }\n",
              "    90% {\n",
              "      border-color: transparent;\n",
              "      border-bottom-color: var(--fill-color);\n",
              "    }\n",
              "  }\n",
              "</style>\n",
              "\n",
              "  <script>\n",
              "    async function quickchart(key) {\n",
              "      const quickchartButtonEl =\n",
              "        document.querySelector('#' + key + ' button');\n",
              "      quickchartButtonEl.disabled = true;  // To prevent multiple clicks.\n",
              "      quickchartButtonEl.classList.add('colab-df-spinner');\n",
              "      try {\n",
              "        const charts = await google.colab.kernel.invokeFunction(\n",
              "            'suggestCharts', [key], {});\n",
              "      } catch (error) {\n",
              "        console.error('Error during call to suggestCharts:', error);\n",
              "      }\n",
              "      quickchartButtonEl.classList.remove('colab-df-spinner');\n",
              "      quickchartButtonEl.classList.add('colab-df-quickchart-complete');\n",
              "    }\n",
              "    (() => {\n",
              "      let quickchartButtonEl =\n",
              "        document.querySelector('#df-ab058fc1-9fad-4cbe-a31e-41d4f8489dcf button');\n",
              "      quickchartButtonEl.style.display =\n",
              "        google.colab.kernel.accessAllowed ? 'block' : 'none';\n",
              "    })();\n",
              "  </script>\n",
              "</div>\n",
              "\n",
              "    </div>\n",
              "  </div>\n"
            ],
            "application/vnd.google.colaboratory.intrinsic+json": {
              "type": "dataframe",
              "variable_name": "df",
              "summary": "{\n  \"name\": \"df\",\n  \"rows\": 27901,\n  \"fields\": [\n    {\n      \"column\": \"id\",\n      \"properties\": {\n        \"dtype\": \"number\",\n        \"std\": 40641,\n        \"min\": 2,\n        \"max\": 140699,\n        \"num_unique_values\": 27901,\n        \"samples\": [\n          101205,\n          83727,\n          38395\n        ],\n        \"semantic_type\": \"\",\n        \"description\": \"\"\n      }\n    },\n    {\n      \"column\": \"Gender\",\n      \"properties\": {\n        \"dtype\": \"category\",\n        \"num_unique_values\": 2,\n        \"samples\": [\n          \"Female\",\n          \"Male\"\n        ],\n        \"semantic_type\": \"\",\n        \"description\": \"\"\n      }\n    },\n    {\n      \"column\": \"Age\",\n      \"properties\": {\n        \"dtype\": \"number\",\n        \"std\": 4.90568744892443,\n        \"min\": 18.0,\n        \"max\": 59.0,\n        \"num_unique_values\": 34,\n        \"samples\": [\n          32.0,\n          42.0\n        ],\n        \"semantic_type\": \"\",\n        \"description\": \"\"\n      }\n    },\n    {\n      \"column\": \"City\",\n      \"properties\": {\n        \"dtype\": \"category\",\n        \"num_unique_values\": 52,\n        \"samples\": [\n          \"Ludhiana\",\n          \"Harsh\"\n        ],\n        \"semantic_type\": \"\",\n        \"description\": \"\"\n      }\n    },\n    {\n      \"column\": \"Profession\",\n      \"properties\": {\n        \"dtype\": \"category\",\n        \"num_unique_values\": 14,\n        \"samples\": [\n          \"Chef\",\n          \"Lawyer\"\n        ],\n        \"semantic_type\": \"\",\n        \"description\": \"\"\n      }\n    },\n    {\n      \"column\": \"Academic Pressure\",\n      \"properties\": {\n        \"dtype\": \"number\",\n        \"std\": 1.3814648413276254,\n        \"min\": 0.0,\n        \"max\": 5.0,\n        \"num_unique_values\": 6,\n        \"samples\": [\n          5.0,\n          2.0\n        ],\n        \"semantic_type\": \"\",\n        \"description\": \"\"\n      }\n    },\n    {\n      \"column\": \"Work Pressure\",\n      \"properties\": {\n        \"dtype\": \"number\",\n        \"std\": 0.043992032063926795,\n        \"min\": 0.0,\n        \"max\": 5.0,\n        \"num_unique_values\": 3,\n        \"samples\": [\n          0.0,\n          5.0\n        ],\n        \"semantic_type\": \"\",\n        \"description\": \"\"\n      }\n    },\n    {\n      \"column\": \"CGPA\",\n      \"properties\": {\n        \"dtype\": \"number\",\n        \"std\": 1.470707346207616,\n        \"min\": 0.0,\n        \"max\": 10.0,\n        \"num_unique_values\": 332,\n        \"samples\": [\n          5.74,\n          6.32\n        ],\n        \"semantic_type\": \"\",\n        \"description\": \"\"\n      }\n    },\n    {\n      \"column\": \"Study Satisfaction\",\n      \"properties\": {\n        \"dtype\": \"number\",\n        \"std\": 1.361147955267022,\n        \"min\": 0.0,\n        \"max\": 5.0,\n        \"num_unique_values\": 6,\n        \"samples\": [\n          2.0,\n          5.0\n        ],\n        \"semantic_type\": \"\",\n        \"description\": \"\"\n      }\n    },\n    {\n      \"column\": \"Job Satisfaction\",\n      \"properties\": {\n        \"dtype\": \"number\",\n        \"std\": 0.044394396218617196,\n        \"min\": 0.0,\n        \"max\": 4.0,\n        \"num_unique_values\": 5,\n        \"samples\": [\n          3.0,\n          1.0\n        ],\n        \"semantic_type\": \"\",\n        \"description\": \"\"\n      }\n    },\n    {\n      \"column\": \"Sleep Duration\",\n      \"properties\": {\n        \"dtype\": \"category\",\n        \"num_unique_values\": 5,\n        \"samples\": [\n          \"Less than 5 hours\",\n          \"Others\"\n        ],\n        \"semantic_type\": \"\",\n        \"description\": \"\"\n      }\n    },\n    {\n      \"column\": \"Dietary Habits\",\n      \"properties\": {\n        \"dtype\": \"category\",\n        \"num_unique_values\": 4,\n        \"samples\": [\n          \"Moderate\",\n          \"Others\"\n        ],\n        \"semantic_type\": \"\",\n        \"description\": \"\"\n      }\n    },\n    {\n      \"column\": \"Degree\",\n      \"properties\": {\n        \"dtype\": \"category\",\n        \"num_unique_values\": 28,\n        \"samples\": [\n          \"BE\",\n          \"ME\"\n        ],\n        \"semantic_type\": \"\",\n        \"description\": \"\"\n      }\n    },\n    {\n      \"column\": \"Have you ever had suicidal thoughts ?\",\n      \"properties\": {\n        \"dtype\": \"category\",\n        \"num_unique_values\": 2,\n        \"samples\": [\n          \"No\",\n          \"Yes\"\n        ],\n        \"semantic_type\": \"\",\n        \"description\": \"\"\n      }\n    },\n    {\n      \"column\": \"Work/Study Hours\",\n      \"properties\": {\n        \"dtype\": \"number\",\n        \"std\": 3.707642072778702,\n        \"min\": 0.0,\n        \"max\": 12.0,\n        \"num_unique_values\": 13,\n        \"samples\": [\n          5.0,\n          6.0\n        ],\n        \"semantic_type\": \"\",\n        \"description\": \"\"\n      }\n    },\n    {\n      \"column\": \"Financial Stress\",\n      \"properties\": {\n        \"dtype\": \"number\",\n        \"std\": 1.4373466968347501,\n        \"min\": 1.0,\n        \"max\": 5.0,\n        \"num_unique_values\": 5,\n        \"samples\": [\n          2.0,\n          4.0\n        ],\n        \"semantic_type\": \"\",\n        \"description\": \"\"\n      }\n    },\n    {\n      \"column\": \"Family History of Mental Illness\",\n      \"properties\": {\n        \"dtype\": \"category\",\n        \"num_unique_values\": 2,\n        \"samples\": [\n          \"Yes\",\n          \"No\"\n        ],\n        \"semantic_type\": \"\",\n        \"description\": \"\"\n      }\n    },\n    {\n      \"column\": \"Depression\",\n      \"properties\": {\n        \"dtype\": \"number\",\n        \"std\": 0,\n        \"min\": 0,\n        \"max\": 1,\n        \"num_unique_values\": 2,\n        \"samples\": [\n          0,\n          1\n        ],\n        \"semantic_type\": \"\",\n        \"description\": \"\"\n      }\n    },\n    {\n      \"column\": \"Avg Sleep Duration\",\n      \"properties\": {\n        \"dtype\": \"number\",\n        \"std\": 1.2795000470796722,\n        \"min\": 5.0,\n        \"max\": 8.0,\n        \"num_unique_values\": 4,\n        \"samples\": [\n          5.0,\n          8.0\n        ],\n        \"semantic_type\": \"\",\n        \"description\": \"\"\n      }\n    }\n  ]\n}"
            }
          },
          "metadata": {},
          "execution_count": 4
        }
      ]
    },
    {
      "cell_type": "code",
      "source": [
        "#drop the oberservations that are not students (some of them are engineers)\n",
        "df = df[df['Profession'] == 'Student']\n",
        "\n",
        "\n",
        "#rename some of the complicated column names\n",
        "df = df.rename(columns={\"Have you ever had suicidal thoughts ?\": \"Suicidal Thoughts\"})\n",
        "df = df.rename(columns = {'Family History of Mental Illness': 'Family History'})\n",
        "\n",
        "#Convert non-numeric values to numeric\n",
        "df['Dietary Habits'] = df['Dietary Habits'].map({'Unhealthy':1, 'Moderate':2, 'Healthy':3})\n",
        "df['Suicidal Thoughts'] = df['Suicidal Thoughts'].map({'Yes':1, 'No':0})\n",
        "df['Family History'] = df['Family History'].map({'Yes':1, 'No':0})\n",
        "df[\"Gender\"] = df[\"Gender\"].map({'Male':1, 'Female':0})\n",
        "\n",
        "#keep the variables we need, we removed city and degree bc it's too complicated to handle (too many categories)\n",
        "df = df[['Gender','Age','CGPA', 'Academic Pressure', 'Study Satisfaction', 'Dietary Habits', 'Suicidal Thoughts', 'Work/Study Hours', \"Family History\", \"Avg Sleep Duration\", 'Depression','Financial Stress']]\n",
        "df.head()\n",
        "\n",
        "#drop null values\n",
        "df = df.dropna()\n",
        "#target variable\n",
        "y = df['Depression']\n",
        "#feature variables\n",
        "x = df.drop('Depression',axis=1)\n",
        "print(x.head())\n",
        "print(x.shape)\n"
      ],
      "metadata": {
        "id": "YKZxxz6ZWr86",
        "colab": {
          "base_uri": "https://localhost:8080/"
        },
        "outputId": "8cfed342-d082-4eba-c46d-c638625e2b0c"
      },
      "id": "YKZxxz6ZWr86",
      "execution_count": null,
      "outputs": [
        {
          "output_type": "stream",
          "name": "stdout",
          "text": [
            "   Gender   Age  CGPA  Academic Pressure  Study Satisfaction  Dietary Habits  \\\n",
            "0       1  33.0  8.97                5.0                 2.0             3.0   \n",
            "1       0  24.0  5.90                2.0                 5.0             2.0   \n",
            "2       1  31.0  7.03                3.0                 5.0             3.0   \n",
            "3       0  28.0  5.59                3.0                 2.0             2.0   \n",
            "4       0  25.0  8.13                4.0                 3.0             2.0   \n",
            "\n",
            "   Suicidal Thoughts  Work/Study Hours  Family History  Avg Sleep Duration  \\\n",
            "0                  1               3.0               0                 5.5   \n",
            "1                  0               3.0               1                 5.5   \n",
            "2                  0               9.0               1                 5.0   \n",
            "3                  1               4.0               1                 7.5   \n",
            "4                  1               1.0               0                 5.5   \n",
            "\n",
            "   Financial Stress  \n",
            "0               1.0  \n",
            "1               2.0  \n",
            "2               1.0  \n",
            "3               5.0  \n",
            "4               1.0  \n",
            "(27837, 11)\n"
          ]
        }
      ]
    },
    {
      "cell_type": "code",
      "source": [
        "#get the tools ready\n",
        "import numpy as np\n",
        "import matplotlib.pyplot as plt\n",
        "import matplotlib as mpl\n",
        "from matplotlib import colors\n",
        "import pandas as pd\n",
        "\n",
        "from sklearn.naive_bayes import GaussianNB\n",
        "from sklearn.svm import LinearSVC\n",
        "from sklearn import tree\n",
        "from sklearn.linear_model import LogisticRegression\n",
        "from sklearn.svm import LinearSVC\n",
        "\n",
        "\n",
        "\n",
        "from sklearn.model_selection import train_test_split\n",
        "from sklearn.metrics import confusion_matrix\n",
        "\n",
        "\n",
        "from sklearn.model_selection import cross_val_score\n",
        "from sklearn.model_selection import cross_validate\n",
        "from sklearn.model_selection import ShuffleSplit\n"
      ],
      "metadata": {
        "id": "REjQ9gkDC-KE"
      },
      "id": "REjQ9gkDC-KE",
      "execution_count": null,
      "outputs": []
    },
    {
      "cell_type": "markdown",
      "source": [
        "Let's first try a sweep search (1 through 20) to find the best depth for the tree"
      ],
      "metadata": {
        "id": "6_rIeuHWoqdG"
      },
      "id": "6_rIeuHWoqdG"
    },
    {
      "cell_type": "code",
      "source": [
        "\n",
        "from sklearn.tree import DecisionTreeClassifier\n",
        "from sklearn.model_selection import GridSearchCV, train_test_split\n",
        "from sklearn.metrics import accuracy_score\n",
        "x_train, x_test, y_train, y_test = train_test_split(x, y, test_size=0.25, random_state=42)\n",
        "\n",
        "\n",
        "model = DecisionTreeClassifier(random_state=42)\n",
        "\n",
        "\n",
        "param_grid = {\n",
        "    'max_depth': range(1, 21)  # Test depths from 1 to 20\n",
        "}\n",
        "\n",
        "grid_search = GridSearchCV(estimator=model, param_grid=param_grid, cv=5, scoring='accuracy')\n",
        "grid_search.fit(x_train, y_train)\n",
        "\n",
        "\n",
        "best_depth = grid_search.best_params_['max_depth']\n",
        "best_model = grid_search.best_estimator_\n",
        "\n",
        "\n",
        "y_pred = best_model.predict(x_test)\n",
        "test_accuracy = accuracy_score(y_test, y_pred)\n",
        "\n",
        "print(f\"Optimal depth for the decision tree: {best_depth}\")\n",
        "print(f\"Test set accuracy with optimal depth: {test_accuracy:.4f}\")"
      ],
      "metadata": {
        "colab": {
          "base_uri": "https://localhost:8080/"
        },
        "id": "vQon3T_YleHQ",
        "outputId": "c357f33b-ef35-4043-e01d-a938cae8747f"
      },
      "id": "vQon3T_YleHQ",
      "execution_count": null,
      "outputs": [
        {
          "output_type": "stream",
          "name": "stdout",
          "text": [
            "Optimal depth for the decision tree: 7\n",
            "Test set accuracy with optimal depth: 0.8282\n"
          ]
        }
      ]
    },
    {
      "cell_type": "markdown",
      "source": [
        "cross validation for the tree, with the optimal tree depth"
      ],
      "metadata": {
        "id": "SZztzsn3Gyxg"
      },
      "id": "SZztzsn3Gyxg"
    },
    {
      "cell_type": "code",
      "source": [
        "nmc = 250\n",
        "treemodel = tree.DecisionTreeClassifier(max_depth=7)\n",
        "\n",
        "shuffle = ShuffleSplit(n_splits=nmc, test_size=.25)\n",
        "CVInfo = cross_validate(treemodel, x, y, cv=shuffle,return_train_score=True)\n",
        "print(np.mean(CVInfo['train_score']))\n",
        "print(np.mean(CVInfo['test_score']))"
      ],
      "metadata": {
        "colab": {
          "base_uri": "https://localhost:8080/"
        },
        "id": "4bVwMlLCDd4h",
        "outputId": "1cbc6e14-770e-4590-9d52-a6ab326d0fa8"
      },
      "id": "4bVwMlLCDd4h",
      "execution_count": null,
      "outputs": [
        {
          "output_type": "stream",
          "name": "stdout",
          "text": [
            "0.8460776931551468\n",
            "0.830866091954023\n"
          ]
        }
      ]
    },
    {
      "cell_type": "code",
      "source": [
        "#a monte-carlo for the tree\n",
        "x_train, x_test, y_train, y_test = train_test_split(x,y,test_size=0.25,random_state=42)\n",
        "\n",
        "scoreVec = np.zeros(1000)\n",
        "for i in range(1000):\n",
        "    treemodel = tree.DecisionTreeClassifier(max_depth=7,random_state=i)\n",
        "    treemodel.fit(x_train,y_train)\n",
        "    scoreVec[i] = treemodel.score(x_test,y_test)\n",
        "print(\"min/max\")\n",
        "print(np.max(scoreVec))\n",
        "print(np.min(scoreVec))"
      ],
      "metadata": {
        "colab": {
          "base_uri": "https://localhost:8080/"
        },
        "id": "RSOWQQvlbO0m",
        "outputId": "6c36c910-fa03-4956-e97f-ff844f9b30f8"
      },
      "id": "RSOWQQvlbO0m",
      "execution_count": null,
      "outputs": [
        {
          "output_type": "stream",
          "name": "stdout",
          "text": [
            "min/max\n",
            "0.8281609195402299\n",
            "0.8281609195402299\n"
          ]
        }
      ]
    },
    {
      "cell_type": "markdown",
      "source": [
        "Logistic Regression:"
      ],
      "metadata": {
        "id": "f-TWvrnEcbmY"
      },
      "id": "f-TWvrnEcbmY"
    },
    {
      "cell_type": "code",
      "source": [
        "nmc = 250\n",
        "lr = LogisticRegression(penalty=None,max_iter=1000,solver='lbfgs')\n",
        "shuffle = ShuffleSplit(n_splits=nmc, test_size=.25)\n",
        "lr.fit(x,y)\n",
        "CVInfo = cross_validate(lr, x, y, cv=shuffle,return_train_score=True)\n",
        "print(np.mean(CVInfo['train_score']))\n",
        "print(np.mean(CVInfo['test_score']))\n"
      ],
      "metadata": {
        "colab": {
          "base_uri": "https://localhost:8080/"
        },
        "id": "xV15_PMYceXr",
        "outputId": "b9bec5d1-1263-4b6d-eeae-4f071d14f110"
      },
      "id": "xV15_PMYceXr",
      "execution_count": null,
      "outputs": [
        {
          "output_type": "stream",
          "name": "stdout",
          "text": [
            "0.8471173061263592\n",
            "0.847021264367816\n"
          ]
        }
      ]
    },
    {
      "cell_type": "markdown",
      "source": [
        "Let's make a confusion matrix and get the error rate"
      ],
      "metadata": {
        "id": "VlhS2yo9erBI"
      },
      "id": "VlhS2yo9erBI"
    },
    {
      "cell_type": "code",
      "source": [
        "x_train, x_test, y_train, y_test = train_test_split(x,y,test_size=0.25)\n",
        "treemodel = tree.DecisionTreeClassifier(max_depth=7)\n",
        "treemodel.fit(x_train,y_train)\n",
        "\n",
        "y_predict = treemodel.predict(x_test)\n",
        "\n",
        "cmat = pd.DataFrame(\n",
        "    confusion_matrix(y_test, y_predict),\n",
        "    columns=['Predicted No Depression', 'Predicted Depression'],\n",
        "    index=['True No Depression', 'True Depression']\n",
        ")\n",
        "\n",
        "print(cmat)\n",
        "\n",
        "#type i and type ii error rate\n",
        "TP, FP, FN, TN = cmat.values.ravel()\n",
        "\n",
        "\n",
        "FPR = FP / (FP + TN)\n",
        "\n",
        "FNR = FN / (FN + TP)\n",
        "\n",
        "print(\"Type I Error Rate:\", FPR)\n",
        "print(\"Type II Error Rate:\", FNR)\n",
        "\n",
        "\n"
      ],
      "metadata": {
        "colab": {
          "base_uri": "https://localhost:8080/"
        },
        "id": "W7n5Is9sevyX",
        "outputId": "8d17f755-ffbd-4fff-93b7-ffe1268c3405"
      },
      "id": "W7n5Is9sevyX",
      "execution_count": null,
      "outputs": [
        {
          "output_type": "stream",
          "name": "stdout",
          "text": [
            "                    Predicted No Depression  Predicted Depression\n",
            "True No Depression                     2265                   632\n",
            "True Depression                         521                  3542\n",
            "Type I Error Rate: 0.15141351221849544\n",
            "Type II Error Rate: 0.1870064608758076\n"
          ]
        }
      ]
    },
    {
      "cell_type": "markdown",
      "source": [
        "Let's take a look at feature importance"
      ],
      "metadata": {
        "id": "BvEsA0TBfhiC"
      },
      "id": "BvEsA0TBfhiC"
    },
    {
      "cell_type": "code",
      "source": [
        "def plot_feature_importances(model):\n",
        "    n_features = x.shape[1]\n",
        "    plt.barh(range(n_features), model.feature_importances_, align='center')\n",
        "    plt.yticks(np.arange(n_features), x.columns)\n",
        "    plt.xlabel(\"Feature importance\")\n",
        "    plt.ylabel(\"Feature\")\n",
        "    plt.ylim(-1, n_features)\n",
        "\n",
        "plot_feature_importances(treemodel)\n",
        "plt.grid()\n",
        "#print the feature importance of every variable\n",
        "treemodel = tree.DecisionTreeClassifier(max_depth=5)\n",
        "treemodel.fit(x_train,y_train)\n",
        "feature_importances = treemodel.feature_importances_\n",
        "for feature, importance in zip(x.columns, feature_importances):\n",
        "    print(f\"{feature}: {importance:.3f}\")"
      ],
      "metadata": {
        "colab": {
          "base_uri": "https://localhost:8080/",
          "height": 645
        },
        "id": "qVdmt2yBflRX",
        "outputId": "141ede90-aaff-463e-9a26-44756287917d"
      },
      "id": "qVdmt2yBflRX",
      "execution_count": null,
      "outputs": [
        {
          "output_type": "stream",
          "name": "stdout",
          "text": [
            "Gender: 0.000\n",
            "Age: 0.035\n",
            "CGPA: 0.000\n",
            "Academic Pressure: 0.248\n",
            "Study Satisfaction: 0.001\n",
            "Dietary Habits: 0.015\n",
            "Suicidal Thoughts: 0.603\n",
            "Work/Study Hours: 0.004\n",
            "Family History: 0.000\n",
            "Avg Sleep Duration: 0.000\n",
            "Financial Stress: 0.094\n"
          ]
        },
        {
          "output_type": "display_data",
          "data": {
            "text/plain": [
              "<Figure size 640x480 with 1 Axes>"
            ],
            "image/png": "[encoded data removed]"
          },
          "metadata": {}
        }
      ]
    },
    {
      "cell_type": "markdown",
      "source": [
        "Try the process again w/o the variables that has zero feature importance"
      ],
      "metadata": {
        "id": "8pe_zL_RTiDZ"
      },
      "id": "8pe_zL_RTiDZ"
    },
    {
      "cell_type": "code",
      "source": [
        "#we keep the variables based on the results above\n",
        "df = df[['Age', 'Academic Pressure', 'Study Satisfaction', 'Dietary Habits', 'Suicidal Thoughts', 'Work/Study Hours', 'Depression','Financial Stress']]\n",
        "df.head()\n",
        "\n",
        "df = df.dropna()\n",
        "y = df['Depression']\n",
        "x = df.drop('Depression',axis=1)\n",
        "print(x.head())\n",
        "print(x.shape)\n",
        "\n"
      ],
      "metadata": {
        "colab": {
          "base_uri": "https://localhost:8080/"
        },
        "id": "1Z4uf36bTy_b",
        "outputId": "ccdf7fc5-99de-406e-dcec-ea0a8159f9db"
      },
      "id": "1Z4uf36bTy_b",
      "execution_count": null,
      "outputs": [
        {
          "output_type": "stream",
          "name": "stdout",
          "text": [
            "    Age  Academic Pressure  Study Satisfaction  Dietary Habits  \\\n",
            "0  33.0                5.0                 2.0             3.0   \n",
            "1  24.0                2.0                 5.0             2.0   \n",
            "2  31.0                3.0                 5.0             3.0   \n",
            "3  28.0                3.0                 2.0             2.0   \n",
            "4  25.0                4.0                 3.0             2.0   \n",
            "\n",
            "   Suicidal Thoughts  Work/Study Hours  Financial Stress  \n",
            "0                  1               3.0               1.0  \n",
            "1                  0               3.0               2.0  \n",
            "2                  0               9.0               1.0  \n",
            "3                  1               4.0               5.0  \n",
            "4                  1               1.0               1.0  \n",
            "(27837, 7)\n"
          ]
        }
      ]
    },
    {
      "cell_type": "markdown",
      "source": [
        "Find the optimal tree depth"
      ],
      "metadata": {
        "id": "EMPj0r-KTt28"
      },
      "id": "EMPj0r-KTt28"
    },
    {
      "cell_type": "code",
      "source": [
        "from sklearn.tree import DecisionTreeClassifier\n",
        "from sklearn.model_selection import GridSearchCV, train_test_split\n",
        "from sklearn.metrics import accuracy_score\n",
        "x_train, x_test, y_train, y_test = train_test_split(x, y, test_size=0.25, random_state=42)\n",
        "\n",
        "\n",
        "model = DecisionTreeClassifier(random_state=42)\n",
        "\n",
        "\n",
        "param_grid = {\n",
        "    'max_depth': range(1, 21)  # Test depths from 1 to 20\n",
        "}\n",
        "\n",
        "grid_search = GridSearchCV(estimator=model, param_grid=param_grid, cv=5, scoring='accuracy')\n",
        "grid_search.fit(x_train, y_train)\n",
        "\n",
        "\n",
        "best_depth = grid_search.best_params_['max_depth']\n",
        "best_model = grid_search.best_estimator_\n",
        "\n",
        "\n",
        "y_pred = best_model.predict(x_test)\n",
        "test_accuracy = accuracy_score(y_test, y_pred)\n",
        "\n",
        "print(f\"Optimal depth for the decision tree: {best_depth}\")\n",
        "print(f\"Test set score with optimal depth: {test_accuracy:.4f}\")"
      ],
      "metadata": {
        "colab": {
          "base_uri": "https://localhost:8080/"
        },
        "id": "LKMxYWsWUdby",
        "outputId": "4afac25c-4726-406d-a0d1-af180dc9eecb"
      },
      "id": "LKMxYWsWUdby",
      "execution_count": null,
      "outputs": [
        {
          "output_type": "stream",
          "name": "stdout",
          "text": [
            "Optimal depth for the decision tree: 8\n",
            "Test set score with optimal depth: 0.8362\n"
          ]
        }
      ]
    },
    {
      "cell_type": "code",
      "source": [
        "#cross validate again\n",
        "nmc = 250\n",
        "treemodel = tree.DecisionTreeClassifier(max_depth=8)\n",
        "\n",
        "shuffle = ShuffleSplit(n_splits=nmc, test_size=.25)\n",
        "CVInfo = cross_validate(treemodel, x, y, cv=shuffle,return_train_score=True)\n",
        "print(np.mean(CVInfo['train_score']))\n",
        "print(np.mean(CVInfo['test_score']))"
      ],
      "metadata": {
        "colab": {
          "base_uri": "https://localhost:8080/"
        },
        "id": "kQfg88YFUh3Y",
        "outputId": "84f953d7-9ccc-443b-a017-8dd4d014686c"
      },
      "id": "kQfg88YFUh3Y",
      "execution_count": null,
      "outputs": [
        {
          "output_type": "stream",
          "name": "stdout",
          "text": [
            "0.8524858935670834\n",
            "0.8329005747126437\n"
          ]
        }
      ]
    },
    {
      "cell_type": "code",
      "source": [
        "#monte-carlo test again\n",
        "x_train, x_test, y_train, y_test = train_test_split(x,y,test_size=0.25,random_state=42)\n",
        "\n",
        "scoreVec = np.zeros(1000)\n",
        "for i in range(1000):\n",
        "    treemodel = tree.DecisionTreeClassifier(max_depth=8,random_state=i)\n",
        "    treemodel.fit(x_train,y_train)\n",
        "    scoreVec[i] = treemodel.score(x_test,y_test)\n",
        "print(\"min/max\")\n",
        "print(np.max(scoreVec))\n",
        "print(np.min(scoreVec))"
      ],
      "metadata": {
        "colab": {
          "base_uri": "https://localhost:8080/"
        },
        "id": "f43Cq4DjUuxv",
        "outputId": "80e91c09-d93f-462e-8b02-05f65370e5fc"
      },
      "id": "f43Cq4DjUuxv",
      "execution_count": null,
      "outputs": [
        {
          "output_type": "stream",
          "name": "stdout",
          "text": [
            "min/max\n",
            "0.8362068965517241\n",
            "0.8362068965517241\n"
          ]
        }
      ]
    },
    {
      "cell_type": "code",
      "source": [
        "#logistic regression\n",
        "nmc = 250\n",
        "lr = LogisticRegression(penalty=None,max_iter=1000,solver='lbfgs')\n",
        "shuffle = ShuffleSplit(n_splits=nmc, test_size=.25)\n",
        "lr.fit(x,y)\n",
        "CVInfo = cross_validate(lr, x, y, cv=shuffle,return_train_score=True)\n",
        "print(np.mean(CVInfo['train_score']))\n",
        "print(np.mean(CVInfo['test_score']))\n"
      ],
      "metadata": {
        "colab": {
          "base_uri": "https://localhost:8080/"
        },
        "id": "8StKMsVvVJfg",
        "outputId": "10bbc667-ea8f-4f4a-bc7a-7166dad94081"
      },
      "id": "8StKMsVvVJfg",
      "execution_count": null,
      "outputs": [
        {
          "output_type": "stream",
          "name": "stdout",
          "text": [
            "0.8461552905110887\n",
            "0.8459385057471265\n"
          ]
        }
      ]
    },
    {
      "cell_type": "code",
      "source": [
        "x_train, x_test, y_train, y_test = train_test_split(x,y,test_size=0.25)\n",
        "treemodel = tree.DecisionTreeClassifier(max_depth=7)\n",
        "treemodel.fit(x_train,y_train)\n",
        "\n",
        "y_predict = treemodel.predict(x_test)\n",
        "\n",
        "cmat = pd.DataFrame(\n",
        "    confusion_matrix(y_test, y_predict),\n",
        "    columns=['Predicted No Depression', 'Predicted Depression'],\n",
        "    index=['True No Depression', 'True Depression']\n",
        ")\n",
        "\n",
        "print(cmat)\n",
        "\n",
        "TP, FP, FN, TN = cmat.values.ravel()\n",
        "\n",
        "\n",
        "FPR = FP / (FP + TN)\n",
        "\n",
        "FNR = FN / (FN + TP)\n",
        "\n",
        "print(\"Type I Error Rate:\", FPR)\n",
        "print(\"Type II Error Rate:\", FNR)"
      ],
      "metadata": {
        "colab": {
          "base_uri": "https://localhost:8080/"
        },
        "id": "qWwfsJ9_ViNT",
        "outputId": "0a73d960-61f7-4dbc-fc76-1a09769b1a5e"
      },
      "id": "qWwfsJ9_ViNT",
      "execution_count": null,
      "outputs": [
        {
          "output_type": "stream",
          "name": "stdout",
          "text": [
            "                    Predicted No Depression  Predicted Depression\n",
            "True No Depression                     2307                   602\n",
            "True Depression                         524                  3527\n",
            "Type I Error Rate: 0.14579801404698475\n",
            "Type II Error Rate: 0.18509360649947015\n"
          ]
        }
      ]
    },
    {
      "cell_type": "code",
      "source": [
        "#feature importance again\n",
        "def plot_feature_importances(model):\n",
        "    n_features = x.shape[1]\n",
        "    plt.barh(range(n_features), model.feature_importances_, align='center')\n",
        "    plt.yticks(np.arange(n_features), x.columns)\n",
        "    plt.xlabel(\"Feature importance\")\n",
        "    plt.ylabel(\"Feature\")\n",
        "    plt.ylim(-1, n_features)\n",
        "\n",
        "plot_feature_importances(treemodel)\n",
        "plt.grid()\n",
        "#print the feature importance of every variable\n",
        "treemodel = tree.DecisionTreeClassifier(max_depth=5)\n",
        "treemodel.fit(x_train,y_train)\n",
        "feature_importances = treemodel.feature_importances_\n",
        "for feature, importance in zip(x.columns, feature_importances):\n",
        "    print(f\"{feature}: {importance:.3f}\")"
      ],
      "metadata": {
        "colab": {
          "base_uri": "https://localhost:8080/",
          "height": 574
        },
        "id": "MBUhoSXakJgh",
        "outputId": "eb761239-5ff7-42a4-afeb-3500a6ba9053"
      },
      "id": "MBUhoSXakJgh",
      "execution_count": null,
      "outputs": [
        {
          "output_type": "stream",
          "name": "stdout",
          "text": [
            "Age: 0.044\n",
            "Academic Pressure: 0.247\n",
            "Study Satisfaction: 0.005\n",
            "Dietary Habits: 0.006\n",
            "Suicidal Thoughts: 0.597\n",
            "Work/Study Hours: 0.003\n",
            "Financial Stress: 0.098\n"
          ]
        },
        {
          "output_type": "display_data",
          "data": {
            "text/plain": [
              "<Figure size 640x480 with 1 Axes>"
            ],
            "image/png": "[encoded data removed]"
          },
          "metadata": {}
        }
      ]
    },
    {
      "cell_type": "markdown",
      "source": [
        "Last but not least, a sensitivity test that removes suicidal thoughts"
      ],
      "metadata": {
        "id": "Qdn5zPyckPma"
      },
      "id": "Qdn5zPyckPma"
    },
    {
      "cell_type": "code",
      "source": [
        "\n",
        "x = x.drop(\"Suicidal Thoughts\",axis=1)\n",
        "nmc = 250\n",
        "trainScores = np.zeros(nmc)\n",
        "testScores  = np.zeros(nmc)\n",
        "treemodel = tree.DecisionTreeClassifier(max_depth=8)\n",
        "\n",
        "shuffle = ShuffleSplit(n_splits=nmc, test_size=.25)\n",
        "CVInfo = cross_validate(treemodel, x, y, cv=shuffle,return_train_score=True)\n",
        "print(np.mean(CVInfo['train_score']))\n",
        "print(np.mean(CVInfo['test_score']))\n"
      ],
      "metadata": {
        "colab": {
          "base_uri": "https://localhost:8080/"
        },
        "id": "RpKFsnWWkYUN",
        "outputId": "35475870-8df1-4704-d144-8f2a83c90900"
      },
      "id": "RpKFsnWWkYUN",
      "execution_count": null,
      "outputs": [
        {
          "output_type": "stream",
          "name": "stdout",
          "text": [
            "0.8033949322220626\n",
            "0.7835327586206897\n"
          ]
        }
      ]
    },
    {
      "cell_type": "markdown",
      "source": [
        "The performance does get apparently worse with \"suicidal thoughts\" removed"
      ],
      "metadata": {
        "id": "9YgjqjamRkhZ"
      },
      "id": "9YgjqjamRkhZ"
    },
    {
      "cell_type": "markdown",
      "source": [
        "##II. Consultancy: suicide prevention\n",
        "Target variable: suicidal thoughts\n",
        "Using the model to predict whether a person have suicidal thoughs, aiming to monitor and prevent suicide and self-harm"
      ],
      "metadata": {
        "id": "0xSufx1JXPn-"
      },
      "id": "0xSufx1JXPn-"
    },
    {
      "cell_type": "code",
      "source": [
        "#reload the database to give a fresh start\n",
        "import pandas as pd\n",
        "import numpy as np\n",
        "import matplotlib.pyplot as plt\n",
        "import seaborn as sns\n",
        "\n",
        "from google.colab import drive\n",
        "drive.mount('/content/gdrive')\n",
        "\n",
        "import pandas as pd\n",
        "df = pd.read_csv('gdrive/My Drive/Fall 2024/BUS 241A: Machine Learning/Final Project/Student Depression Dataset.csv')\n",
        "df.head()\n"
      ],
      "metadata": {
        "colab": {
          "base_uri": "https://localhost:8080/",
          "height": 331
        },
        "id": "nUdyFZ5cYKk1",
        "outputId": "95dcf3ce-ea69-46b1-968a-07558660feb0"
      },
      "id": "nUdyFZ5cYKk1",
      "execution_count": null,
      "outputs": [
        {
          "output_type": "stream",
          "name": "stdout",
          "text": [
            "Drive already mounted at /content/gdrive; to attempt to forcibly remount, call drive.mount(\"/content/gdrive\", force_remount=True).\n"
          ]
        },
        {
          "output_type": "execute_result",
          "data": {
            "text/plain": [
              "   id  Gender   Age           City Profession  Academic Pressure  \\\n",
              "0   2    Male  33.0  Visakhapatnam    Student                5.0   \n",
              "1   8  Female  24.0      Bangalore    Student                2.0   \n",
              "2  26    Male  31.0       Srinagar    Student                3.0   \n",
              "3  30  Female  28.0       Varanasi    Student                3.0   \n",
              "4  32  Female  25.0         Jaipur    Student                4.0   \n",
              "\n",
              "   Work Pressure  CGPA  Study Satisfaction  Job Satisfaction  \\\n",
              "0            0.0  8.97                 2.0               0.0   \n",
              "1            0.0  5.90                 5.0               0.0   \n",
              "2            0.0  7.03                 5.0               0.0   \n",
              "3            0.0  5.59                 2.0               0.0   \n",
              "4            0.0  8.13                 3.0               0.0   \n",
              "\n",
              "      Sleep Duration Dietary Habits   Degree  \\\n",
              "0          5-6 hours        Healthy  B.Pharm   \n",
              "1          5-6 hours       Moderate      BSc   \n",
              "2  Less than 5 hours        Healthy       BA   \n",
              "3          7-8 hours       Moderate      BCA   \n",
              "4          5-6 hours       Moderate   M.Tech   \n",
              "\n",
              "  Have you ever had suicidal thoughts ?  Work/Study Hours  Financial Stress  \\\n",
              "0                                   Yes               3.0               1.0   \n",
              "1                                    No               3.0               2.0   \n",
              "2                                    No               9.0               1.0   \n",
              "3                                   Yes               4.0               5.0   \n",
              "4                                   Yes               1.0               1.0   \n",
              "\n",
              "  Family History of Mental Illness  Depression  \n",
              "0                               No           1  \n",
              "1                              Yes           0  \n",
              "2                              Yes           0  \n",
              "3                              Yes           1  \n",
              "4                               No           0  "
            ],
            "text/html": [
              "\n",
              "  <div id=\"df-0d42c354-3be8-49b3-a01b-64445dea31a1\" class=\"colab-df-container\">\n",
              "    <div>\n",
              "<style scoped>\n",
              "    .dataframe tbody tr th:only-of-type {\n",
              "        vertical-align: middle;\n",
              "    }\n",
              "\n",
              "    .dataframe tbody tr th {\n",
              "        vertical-align: top;\n",
              "    }\n",
              "\n",
              "    .dataframe thead th {\n",
              "        text-align: right;\n",
              "    }\n",
              "</style>\n",
              "<table border=\"1\" class=\"dataframe\">\n",
              "  <thead>\n",
              "    <tr style=\"text-align: right;\">\n",
              "      <th></th>\n",
              "      <th>id</th>\n",
              "      <th>Gender</th>\n",
              "      <th>Age</th>\n",
              "      <th>City</th>\n",
              "      <th>Profession</th>\n",
              "      <th>Academic Pressure</th>\n",
              "      <th>Work Pressure</th>\n",
              "      <th>CGPA</th>\n",
              "      <th>Study Satisfaction</th>\n",
              "      <th>Job Satisfaction</th>\n",
              "      <th>Sleep Duration</th>\n",
              "      <th>Dietary Habits</th>\n",
              "      <th>Degree</th>\n",
              "      <th>Have you ever had suicidal thoughts ?</th>\n",
              "      <th>Work/Study Hours</th>\n",
              "      <th>Financial Stress</th>\n",
              "      <th>Family History of Mental Illness</th>\n",
              "      <th>Depression</th>\n",
              "    </tr>\n",
              "  </thead>\n",
              "  <tbody>\n",
              "    <tr>\n",
              "      <th>0</th>\n",
              "      <td>2</td>\n",
              "      <td>Male</td>\n",
              "      <td>33.0</td>\n",
              "      <td>Visakhapatnam</td>\n",
              "      <td>Student</td>\n",
              "      <td>5.0</td>\n",
              "      <td>0.0</td>\n",
              "      <td>8.97</td>\n",
              "      <td>2.0</td>\n",
              "      <td>0.0</td>\n",
              "      <td>5-6 hours</td>\n",
              "      <td>Healthy</td>\n",
              "      <td>B.Pharm</td>\n",
              "      <td>Yes</td>\n",
              "      <td>3.0</td>\n",
              "      <td>1.0</td>\n",
              "      <td>No</td>\n",
              "      <td>1</td>\n",
              "    </tr>\n",
              "    <tr>\n",
              "      <th>1</th>\n",
              "      <td>8</td>\n",
              "      <td>Female</td>\n",
              "      <td>24.0</td>\n",
              "      <td>Bangalore</td>\n",
              "      <td>Student</td>\n",
              "      <td>2.0</td>\n",
              "      <td>0.0</td>\n",
              "      <td>5.90</td>\n",
              "      <td>5.0</td>\n",
              "      <td>0.0</td>\n",
              "      <td>5-6 hours</td>\n",
              "      <td>Moderate</td>\n",
              "      <td>BSc</td>\n",
              "      <td>No</td>\n",
              "      <td>3.0</td>\n",
              "      <td>2.0</td>\n",
              "      <td>Yes</td>\n",
              "      <td>0</td>\n",
              "    </tr>\n",
              "    <tr>\n",
              "      <th>2</th>\n",
              "      <td>26</td>\n",
              "      <td>Male</td>\n",
              "      <td>31.0</td>\n",
              "      <td>Srinagar</td>\n",
              "      <td>Student</td>\n",
              "      <td>3.0</td>\n",
              "      <td>0.0</td>\n",
              "      <td>7.03</td>\n",
              "      <td>5.0</td>\n",
              "      <td>0.0</td>\n",
              "      <td>Less than 5 hours</td>\n",
              "      <td>Healthy</td>\n",
              "      <td>BA</td>\n",
              "      <td>No</td>\n",
              "      <td>9.0</td>\n",
              "      <td>1.0</td>\n",
              "      <td>Yes</td>\n",
              "      <td>0</td>\n",
              "    </tr>\n",
              "    <tr>\n",
              "      <th>3</th>\n",
              "      <td>30</td>\n",
              "      <td>Female</td>\n",
              "      <td>28.0</td>\n",
              "      <td>Varanasi</td>\n",
              "      <td>Student</td>\n",
              "      <td>3.0</td>\n",
              "      <td>0.0</td>\n",
              "      <td>5.59</td>\n",
              "      <td>2.0</td>\n",
              "      <td>0.0</td>\n",
              "      <td>7-8 hours</td>\n",
              "      <td>Moderate</td>\n",
              "      <td>BCA</td>\n",
              "      <td>Yes</td>\n",
              "      <td>4.0</td>\n",
              "      <td>5.0</td>\n",
              "      <td>Yes</td>\n",
              "      <td>1</td>\n",
              "    </tr>\n",
              "    <tr>\n",
              "      <th>4</th>\n",
              "      <td>32</td>\n",
              "      <td>Female</td>\n",
              "      <td>25.0</td>\n",
              "      <td>Jaipur</td>\n",
              "      <td>Student</td>\n",
              "      <td>4.0</td>\n",
              "      <td>0.0</td>\n",
              "      <td>8.13</td>\n",
              "      <td>3.0</td>\n",
              "      <td>0.0</td>\n",
              "      <td>5-6 hours</td>\n",
              "      <td>Moderate</td>\n",
              "      <td>M.Tech</td>\n",
              "      <td>Yes</td>\n",
              "      <td>1.0</td>\n",
              "      <td>1.0</td>\n",
              "      <td>No</td>\n",
              "      <td>0</td>\n",
              "    </tr>\n",
              "  </tbody>\n",
              "</table>\n",
              "</div>\n",
              "    <div class=\"colab-df-buttons\">\n",
              "\n",
              "  <div class=\"colab-df-container\">\n",
              "    <button class=\"colab-df-convert\" onclick=\"convertToInteractive('df-0d42c354-3be8-49b3-a01b-64445dea31a1')\"\n",
              "            title=\"Convert this dataframe to an interactive table.\"\n",
              "            style=\"display:none;\">\n",
              "\n",
              "  <svg xmlns=\"http://www.w3.org/2000/svg\" height=\"24px\" viewBox=\"0 -960 960 960\">\n",
              "    <path d=\"M120-120v-720h720v720H120Zm60-500h600v-160H180v160Zm220 220h160v-160H400v160Zm0 220h160v-160H400v160ZM180-400h160v-160H180v160Zm440 0h160v-160H620v160ZM180-180h160v-160H180v160Zm440 0h160v-160H620v160Z\"/>\n",
              "  </svg>\n",
              "    </button>\n",
              "\n",
              "  <style>\n",
              "    .colab-df-container {\n",
              "      display:flex;\n",
              "      gap: 12px;\n",
              "    }\n",
              "\n",
              "    .colab-df-convert {\n",
              "      background-color: #E8F0FE;\n",
              "      border: none;\n",
              "      border-radius: 50%;\n",
              "      cursor: pointer;\n",
              "      display: none;\n",
              "      fill: #1967D2;\n",
              "      height: 32px;\n",
              "      padding: 0 0 0 0;\n",
              "      width: 32px;\n",
              "    }\n",
              "\n",
              "    .colab-df-convert:hover {\n",
              "      background-color: #E2EBFA;\n",
              "      box-shadow: 0px 1px 2px rgba(60, 64, 67, 0.3), 0px 1px 3px 1px rgba(60, 64, 67, 0.15);\n",
              "      fill: #174EA6;\n",
              "    }\n",
              "\n",
              "    .colab-df-buttons div {\n",
              "      margin-bottom: 4px;\n",
              "    }\n",
              "\n",
              "    [theme=dark] .colab-df-convert {\n",
              "      background-color: #3B4455;\n",
              "      fill: #D2E3FC;\n",
              "    }\n",
              "\n",
              "    [theme=dark] .colab-df-convert:hover {\n",
              "      background-color: #434B5C;\n",
              "      box-shadow: 0px 1px 3px 1px rgba(0, 0, 0, 0.15);\n",
              "      filter: drop-shadow(0px 1px 2px rgba(0, 0, 0, 0.3));\n",
              "      fill: #FFFFFF;\n",
              "    }\n",
              "  </style>\n",
              "\n",
              "    <script>\n",
              "      const buttonEl =\n",
              "        document.querySelector('#df-0d42c354-3be8-49b3-a01b-64445dea31a1 button.colab-df-convert');\n",
              "      buttonEl.style.display =\n",
              "        google.colab.kernel.accessAllowed ? 'block' : 'none';\n",
              "\n",
              "      async function convertToInteractive(key) {\n",
              "        const element = document.querySelector('#df-0d42c354-3be8-49b3-a01b-64445dea31a1');\n",
              "        const dataTable =\n",
              "          await google.colab.kernel.invokeFunction('convertToInteractive',\n",
              "                                                    [key], {});\n",
              "        if (!dataTable) return;\n",
              "\n",
              "        const docLinkHtml = 'Like what you see? Visit the ' +\n",
              "          '<a target=\"_blank\" href=https://colab.research.google.com/notebooks/data_table.ipynb>data table notebook</a>'\n",
              "          + ' to learn more about interactive tables.';\n",
              "        element.innerHTML = '';\n",
              "        dataTable['output_type'] = 'display_data';\n",
              "        await google.colab.output.renderOutput(dataTable, element);\n",
              "        const docLink = document.createElement('div');\n",
              "        docLink.innerHTML = docLinkHtml;\n",
              "        element.appendChild(docLink);\n",
              "      }\n",
              "    </script>\n",
              "  </div>\n",
              "\n",
              "\n",
              "<div id=\"df-c2937549-a4bb-44d8-909e-a5d725821478\">\n",
              "  <button class=\"colab-df-quickchart\" onclick=\"quickchart('df-c2937549-a4bb-44d8-909e-a5d725821478')\"\n",
              "            title=\"Suggest charts\"\n",
              "            style=\"display:none;\">\n",
              "\n",
              "<svg xmlns=\"http://www.w3.org/2000/svg\" height=\"24px\"viewBox=\"0 0 24 24\"\n",
              "     width=\"24px\">\n",
              "    <g>\n",
              "        <path d=\"M19 3H5c-1.1 0-2 .9-2 2v14c0 1.1.9 2 2 2h14c1.1 0 2-.9 2-2V5c0-1.1-.9-2-2-2zM9 17H7v-7h2v7zm4 0h-2V7h2v10zm4 0h-2v-4h2v4z\"/>\n",
              "    </g>\n",
              "</svg>\n",
              "  </button>\n",
              "\n",
              "<style>\n",
              "  .colab-df-quickchart {\n",
              "      --bg-color: #E8F0FE;\n",
              "      --fill-color: #1967D2;\n",
              "      --hover-bg-color: #E2EBFA;\n",
              "      --hover-fill-color: #174EA6;\n",
              "      --disabled-fill-color: #AAA;\n",
              "      --disabled-bg-color: #DDD;\n",
              "  }\n",
              "\n",
              "  [theme=dark] .colab-df-quickchart {\n",
              "      --bg-color: #3B4455;\n",
              "      --fill-color: #D2E3FC;\n",
              "      --hover-bg-color: #434B5C;\n",
              "      --hover-fill-color: #FFFFFF;\n",
              "      --disabled-bg-color: #3B4455;\n",
              "      --disabled-fill-color: #666;\n",
              "  }\n",
              "\n",
              "  .colab-df-quickchart {\n",
              "    background-color: var(--bg-color);\n",
              "    border: none;\n",
              "    border-radius: 50%;\n",
              "    cursor: pointer;\n",
              "    display: none;\n",
              "    fill: var(--fill-color);\n",
              "    height: 32px;\n",
              "    padding: 0;\n",
              "    width: 32px;\n",
              "  }\n",
              "\n",
              "  .colab-df-quickchart:hover {\n",
              "    background-color: var(--hover-bg-color);\n",
              "    box-shadow: 0 1px 2px rgba(60, 64, 67, 0.3), 0 1px 3px 1px rgba(60, 64, 67, 0.15);\n",
              "    fill: var(--button-hover-fill-color);\n",
              "  }\n",
              "\n",
              "  .colab-df-quickchart-complete:disabled,\n",
              "  .colab-df-quickchart-complete:disabled:hover {\n",
              "    background-color: var(--disabled-bg-color);\n",
              "    fill: var(--disabled-fill-color);\n",
              "    box-shadow: none;\n",
              "  }\n",
              "\n",
              "  .colab-df-spinner {\n",
              "    border: 2px solid var(--fill-color);\n",
              "    border-color: transparent;\n",
              "    border-bottom-color: var(--fill-color);\n",
              "    animation:\n",
              "      spin 1s steps(1) infinite;\n",
              "  }\n",
              "\n",
              "  @keyframes spin {\n",
              "    0% {\n",
              "      border-color: transparent;\n",
              "      border-bottom-color: var(--fill-color);\n",
              "      border-left-color: var(--fill-color);\n",
              "    }\n",
              "    20% {\n",
              "      border-color: transparent;\n",
              "      border-left-color: var(--fill-color);\n",
              "      border-top-color: var(--fill-color);\n",
              "    }\n",
              "    30% {\n",
              "      border-color: transparent;\n",
              "      border-left-color: var(--fill-color);\n",
              "      border-top-color: var(--fill-color);\n",
              "      border-right-color: var(--fill-color);\n",
              "    }\n",
              "    40% {\n",
              "      border-color: transparent;\n",
              "      border-right-color: var(--fill-color);\n",
              "      border-top-color: var(--fill-color);\n",
              "    }\n",
              "    60% {\n",
              "      border-color: transparent;\n",
              "      border-right-color: var(--fill-color);\n",
              "    }\n",
              "    80% {\n",
              "      border-color: transparent;\n",
              "      border-right-color: var(--fill-color);\n",
              "      border-bottom-color: var(--fill-color);\n",
              "    }\n",
              "    90% {\n",
              "      border-color: transparent;\n",
              "      border-bottom-color: var(--fill-color);\n",
              "    }\n",
              "  }\n",
              "</style>\n",
              "\n",
              "  <script>\n",
              "    async function quickchart(key) {\n",
              "      const quickchartButtonEl =\n",
              "        document.querySelector('#' + key + ' button');\n",
              "      quickchartButtonEl.disabled = true;  // To prevent multiple clicks.\n",
              "      quickchartButtonEl.classList.add('colab-df-spinner');\n",
              "      try {\n",
              "        const charts = await google.colab.kernel.invokeFunction(\n",
              "            'suggestCharts', [key], {});\n",
              "      } catch (error) {\n",
              "        console.error('Error during call to suggestCharts:', error);\n",
              "      }\n",
              "      quickchartButtonEl.classList.remove('colab-df-spinner');\n",
              "      quickchartButtonEl.classList.add('colab-df-quickchart-complete');\n",
              "    }\n",
              "    (() => {\n",
              "      let quickchartButtonEl =\n",
              "        document.querySelector('#df-c2937549-a4bb-44d8-909e-a5d725821478 button');\n",
              "      quickchartButtonEl.style.display =\n",
              "        google.colab.kernel.accessAllowed ? 'block' : 'none';\n",
              "    })();\n",
              "  </script>\n",
              "</div>\n",
              "\n",
              "    </div>\n",
              "  </div>\n"
            ],
            "application/vnd.google.colaboratory.intrinsic+json": {
              "type": "dataframe",
              "variable_name": "df",
              "summary": "{\n  \"name\": \"df\",\n  \"rows\": 27901,\n  \"fields\": [\n    {\n      \"column\": \"id\",\n      \"properties\": {\n        \"dtype\": \"number\",\n        \"std\": 40641,\n        \"min\": 2,\n        \"max\": 140699,\n        \"num_unique_values\": 27901,\n        \"samples\": [\n          101205,\n          83727,\n          38395\n        ],\n        \"semantic_type\": \"\",\n        \"description\": \"\"\n      }\n    },\n    {\n      \"column\": \"Gender\",\n      \"properties\": {\n        \"dtype\": \"category\",\n        \"num_unique_values\": 2,\n        \"samples\": [\n          \"Female\",\n          \"Male\"\n        ],\n        \"semantic_type\": \"\",\n        \"description\": \"\"\n      }\n    },\n    {\n      \"column\": \"Age\",\n      \"properties\": {\n        \"dtype\": \"number\",\n        \"std\": 4.90568744892443,\n        \"min\": 18.0,\n        \"max\": 59.0,\n        \"num_unique_values\": 34,\n        \"samples\": [\n          32.0,\n          42.0\n        ],\n        \"semantic_type\": \"\",\n        \"description\": \"\"\n      }\n    },\n    {\n      \"column\": \"City\",\n      \"properties\": {\n        \"dtype\": \"category\",\n        \"num_unique_values\": 52,\n        \"samples\": [\n          \"Ludhiana\",\n          \"Harsh\"\n        ],\n        \"semantic_type\": \"\",\n        \"description\": \"\"\n      }\n    },\n    {\n      \"column\": \"Profession\",\n      \"properties\": {\n        \"dtype\": \"category\",\n        \"num_unique_values\": 14,\n        \"samples\": [\n          \"Chef\",\n          \"Lawyer\"\n        ],\n        \"semantic_type\": \"\",\n        \"description\": \"\"\n      }\n    },\n    {\n      \"column\": \"Academic Pressure\",\n      \"properties\": {\n        \"dtype\": \"number\",\n        \"std\": 1.3814648413276254,\n        \"min\": 0.0,\n        \"max\": 5.0,\n        \"num_unique_values\": 6,\n        \"samples\": [\n          5.0,\n          2.0\n        ],\n        \"semantic_type\": \"\",\n        \"description\": \"\"\n      }\n    },\n    {\n      \"column\": \"Work Pressure\",\n      \"properties\": {\n        \"dtype\": \"number\",\n        \"std\": 0.043992032063926795,\n        \"min\": 0.0,\n        \"max\": 5.0,\n        \"num_unique_values\": 3,\n        \"samples\": [\n          0.0,\n          5.0\n        ],\n        \"semantic_type\": \"\",\n        \"description\": \"\"\n      }\n    },\n    {\n      \"column\": \"CGPA\",\n      \"properties\": {\n        \"dtype\": \"number\",\n        \"std\": 1.470707346207616,\n        \"min\": 0.0,\n        \"max\": 10.0,\n        \"num_unique_values\": 332,\n        \"samples\": [\n          5.74,\n          6.32\n        ],\n        \"semantic_type\": \"\",\n        \"description\": \"\"\n      }\n    },\n    {\n      \"column\": \"Study Satisfaction\",\n      \"properties\": {\n        \"dtype\": \"number\",\n        \"std\": 1.361147955267022,\n        \"min\": 0.0,\n        \"max\": 5.0,\n        \"num_unique_values\": 6,\n        \"samples\": [\n          2.0,\n          5.0\n        ],\n        \"semantic_type\": \"\",\n        \"description\": \"\"\n      }\n    },\n    {\n      \"column\": \"Job Satisfaction\",\n      \"properties\": {\n        \"dtype\": \"number\",\n        \"std\": 0.044394396218617196,\n        \"min\": 0.0,\n        \"max\": 4.0,\n        \"num_unique_values\": 5,\n        \"samples\": [\n          3.0,\n          1.0\n        ],\n        \"semantic_type\": \"\",\n        \"description\": \"\"\n      }\n    },\n    {\n      \"column\": \"Sleep Duration\",\n      \"properties\": {\n        \"dtype\": \"category\",\n        \"num_unique_values\": 5,\n        \"samples\": [\n          \"Less than 5 hours\",\n          \"Others\"\n        ],\n        \"semantic_type\": \"\",\n        \"description\": \"\"\n      }\n    },\n    {\n      \"column\": \"Dietary Habits\",\n      \"properties\": {\n        \"dtype\": \"category\",\n        \"num_unique_values\": 4,\n        \"samples\": [\n          \"Moderate\",\n          \"Others\"\n        ],\n        \"semantic_type\": \"\",\n        \"description\": \"\"\n      }\n    },\n    {\n      \"column\": \"Degree\",\n      \"properties\": {\n        \"dtype\": \"category\",\n        \"num_unique_values\": 28,\n        \"samples\": [\n          \"BE\",\n          \"ME\"\n        ],\n        \"semantic_type\": \"\",\n        \"description\": \"\"\n      }\n    },\n    {\n      \"column\": \"Have you ever had suicidal thoughts ?\",\n      \"properties\": {\n        \"dtype\": \"category\",\n        \"num_unique_values\": 2,\n        \"samples\": [\n          \"No\",\n          \"Yes\"\n        ],\n        \"semantic_type\": \"\",\n        \"description\": \"\"\n      }\n    },\n    {\n      \"column\": \"Work/Study Hours\",\n      \"properties\": {\n        \"dtype\": \"number\",\n        \"std\": 3.707642072778702,\n        \"min\": 0.0,\n        \"max\": 12.0,\n        \"num_unique_values\": 13,\n        \"samples\": [\n          5.0,\n          6.0\n        ],\n        \"semantic_type\": \"\",\n        \"description\": \"\"\n      }\n    },\n    {\n      \"column\": \"Financial Stress\",\n      \"properties\": {\n        \"dtype\": \"number\",\n        \"std\": 1.4373466968347501,\n        \"min\": 1.0,\n        \"max\": 5.0,\n        \"num_unique_values\": 5,\n        \"samples\": [\n          2.0,\n          4.0\n        ],\n        \"semantic_type\": \"\",\n        \"description\": \"\"\n      }\n    },\n    {\n      \"column\": \"Family History of Mental Illness\",\n      \"properties\": {\n        \"dtype\": \"category\",\n        \"num_unique_values\": 2,\n        \"samples\": [\n          \"Yes\",\n          \"No\"\n        ],\n        \"semantic_type\": \"\",\n        \"description\": \"\"\n      }\n    },\n    {\n      \"column\": \"Depression\",\n      \"properties\": {\n        \"dtype\": \"number\",\n        \"std\": 0,\n        \"min\": 0,\n        \"max\": 1,\n        \"num_unique_values\": 2,\n        \"samples\": [\n          0,\n          1\n        ],\n        \"semantic_type\": \"\",\n        \"description\": \"\"\n      }\n    }\n  ]\n}"
            }
          },
          "metadata": {},
          "execution_count": 5
        }
      ]
    },
    {
      "cell_type": "code",
      "source": [
        "#the same processing again\n",
        "for duration in df['Sleep Duration']:\n",
        "  def avg_sleep_time(duration):\n",
        "    if duration == '5-6 hours':\n",
        "      return 5.5\n",
        "    elif duration == '6-7 hours':\n",
        "      return 6.5\n",
        "    elif duration == '7-8 hours':\n",
        "      return 7.5\n",
        "    elif duration == 'Less than 5 hours':\n",
        "      return 5\n",
        "    elif duration == 'More than 8 hours':\n",
        "      return 8\n",
        "\n",
        "df[\"Avg Sleep Duration\"] = df[\"Sleep Duration\"].apply(avg_sleep_time)\n",
        "df.head()\n",
        "\n",
        "df = df[df['Profession'] == 'Student']\n",
        "\n",
        "\n",
        "#rename some of the complicated column names\n",
        "df = df.rename(columns={\"Have you ever had suicidal thoughts ?\": \"Suicidal Thoughts\"})\n",
        "df = df.rename(columns = {'Family History of Mental Illness': 'Family History'})\n",
        "\n",
        "#Convert non-numeric values to numeric\n",
        "df['Dietary Habits'] = df['Dietary Habits'].map({'Unhealthy':1, 'Moderate':2, 'Healthy':3})\n",
        "df['Suicidal Thoughts'] = df['Suicidal Thoughts'].map({'Yes':1, 'No':0})\n",
        "df['Family History'] = df['Family History'].map({'Yes':1, 'No':0})\n",
        "df[\"Gender\"] = df[\"Gender\"].map({'Male':1, 'Female':0})\n",
        "\n",
        "#keep the variables we need, we removed city and degree bc it's too complicated to handle (too many categories)\n",
        "df = df[['Gender','Age','CGPA', 'Academic Pressure', 'Study Satisfaction', 'Dietary Habits', 'Suicidal Thoughts', 'Work/Study Hours', \"Family History\", \"Avg Sleep Duration\", 'Depression','Financial Stress']]\n",
        "df.head()\n",
        "\n",
        "#drop null values\n",
        "df = df.dropna()\n",
        "\n"
      ],
      "metadata": {
        "id": "h-EnXY6AYRKt"
      },
      "id": "h-EnXY6AYRKt",
      "execution_count": null,
      "outputs": []
    },
    {
      "cell_type": "markdown",
      "source": [
        "Redefine the target and feature variables"
      ],
      "metadata": {
        "id": "55W4DiFuYhw9"
      },
      "id": "55W4DiFuYhw9"
    },
    {
      "cell_type": "code",
      "source": [
        "df = df[['Gender','Age','CGPA', 'Academic Pressure', 'Study Satisfaction', 'Dietary Habits', 'Suicidal Thoughts', 'Work/Study Hours', \"Family History\", \"Avg Sleep Duration\", 'Depression','Financial Stress']]\n",
        "df.head()\n",
        "\n",
        "#drop null values\n",
        "df = df.dropna()\n",
        "#target variable\n",
        "y = df['Suicidal Thoughts']\n",
        "#feature variables\n",
        "x = df.drop('Suicidal Thoughts',axis=1)\n",
        "print(x.head())\n",
        "print(x.shape)\n"
      ],
      "metadata": {
        "colab": {
          "base_uri": "https://localhost:8080/"
        },
        "id": "V0AwHSITXf-T",
        "outputId": "bdece11c-33c1-40d6-f394-420a4eafdc7a"
      },
      "id": "V0AwHSITXf-T",
      "execution_count": null,
      "outputs": [
        {
          "output_type": "stream",
          "name": "stdout",
          "text": [
            "   Gender   Age  CGPA  Academic Pressure  Study Satisfaction  Dietary Habits  \\\n",
            "0       1  33.0  8.97                5.0                 2.0             3.0   \n",
            "1       0  24.0  5.90                2.0                 5.0             2.0   \n",
            "2       1  31.0  7.03                3.0                 5.0             3.0   \n",
            "3       0  28.0  5.59                3.0                 2.0             2.0   \n",
            "4       0  25.0  8.13                4.0                 3.0             2.0   \n",
            "\n",
            "   Work/Study Hours  Family History  Avg Sleep Duration  Depression  \\\n",
            "0               3.0               0                 5.5           1   \n",
            "1               3.0               1                 5.5           0   \n",
            "2               9.0               1                 5.0           0   \n",
            "3               4.0               1                 7.5           1   \n",
            "4               1.0               0                 5.5           0   \n",
            "\n",
            "   Financial Stress  \n",
            "0               1.0  \n",
            "1               2.0  \n",
            "2               1.0  \n",
            "3               5.0  \n",
            "4               1.0  \n",
            "(27837, 11)\n"
          ]
        }
      ]
    },
    {
      "cell_type": "code",
      "source": [
        "#find the optimal tree depth\n",
        "from sklearn.tree import DecisionTreeClassifier\n",
        "from sklearn.model_selection import GridSearchCV, train_test_split\n",
        "from sklearn.metrics import accuracy_score\n",
        "x_train, x_test, y_train, y_test = train_test_split(x, y, test_size=0.25, random_state=42)\n",
        "\n",
        "\n",
        "model = DecisionTreeClassifier(random_state=42)\n",
        "\n",
        "\n",
        "param_grid = {\n",
        "    'max_depth': range(1, 21)  # Test depths from 1 to 20\n",
        "}\n",
        "\n",
        "grid_search = GridSearchCV(estimator=model, param_grid=param_grid, cv=5, scoring='accuracy')\n",
        "grid_search.fit(x_train, y_train)\n",
        "\n",
        "\n",
        "best_depth = grid_search.best_params_['max_depth']\n",
        "best_model = grid_search.best_estimator_\n",
        "\n",
        "\n",
        "y_pred = best_model.predict(x_test)\n",
        "test_accuracy = accuracy_score(y_test, y_pred)\n",
        "\n",
        "print(f\"Optimal depth for the decision tree: {best_depth}\")\n",
        "print(f\"Test set accuracy with optimal depth: {test_accuracy:.4f}\")"
      ],
      "metadata": {
        "colab": {
          "base_uri": "https://localhost:8080/"
        },
        "id": "wI-6XJBKYpDE",
        "outputId": "364e3d5f-5535-4fba-93ee-f5c06bfc2c91"
      },
      "id": "wI-6XJBKYpDE",
      "execution_count": null,
      "outputs": [
        {
          "output_type": "stream",
          "name": "stdout",
          "text": [
            "Optimal depth for the decision tree: 4\n",
            "Test set accuracy with optimal depth: 0.7782\n"
          ]
        },
        {
          "output_type": "stream",
          "name": "stderr",
          "text": [
            "/usr/local/lib/python3.10/dist-packages/numpy/ma/core.py:2820: RuntimeWarning: invalid value encountered in cast\n",
            "  _data = np.array(data, dtype=dtype, copy=copy,\n"
          ]
        }
      ]
    },
    {
      "cell_type": "code",
      "source": [
        "#cross validate\n",
        "nmc = 250\n",
        "treemodel = tree.DecisionTreeClassifier(max_depth=4)\n",
        "\n",
        "shuffle = ShuffleSplit(n_splits=nmc, test_size=.25)\n",
        "CVInfo = cross_validate(treemodel, x, y, cv=shuffle,return_train_score=True)\n",
        "print(np.mean(CVInfo['train_score']))\n",
        "print(np.mean(CVInfo['test_score']))"
      ],
      "metadata": {
        "colab": {
          "base_uri": "https://localhost:8080/"
        },
        "id": "8r4GOt06Y6il",
        "outputId": "b0e07e8c-1102-40d9-c118-0c00b46fe984"
      },
      "id": "8r4GOt06Y6il",
      "execution_count": null,
      "outputs": [
        {
          "output_type": "stream",
          "name": "stdout",
          "text": [
            "0.7828676533984767\n",
            "0.7817948275862068\n"
          ]
        }
      ]
    },
    {
      "cell_type": "code",
      "source": [
        "#monte-carlo\n",
        "x_train, x_test, y_train, y_test = train_test_split(x,y,test_size=0.25,random_state=42)\n",
        "\n",
        "scoreVec = np.zeros(1000)\n",
        "for i in range(1000):\n",
        "    treemodel = tree.DecisionTreeClassifier(max_depth=8,random_state=i)\n",
        "    treemodel.fit(x_train,y_train)\n",
        "    scoreVec[i] = treemodel.score(x_test,y_test)\n",
        "print(\"min/max\")\n",
        "print(np.max(scoreVec))\n",
        "print(np.min(scoreVec))"
      ],
      "metadata": {
        "colab": {
          "base_uri": "https://localhost:8080/"
        },
        "id": "meXThn37ZViw",
        "outputId": "57acd6e8-be6d-4044-96a9-ad43454470e5"
      },
      "id": "meXThn37ZViw",
      "execution_count": null,
      "outputs": [
        {
          "output_type": "stream",
          "name": "stdout",
          "text": [
            "min/max\n",
            "0.7725574712643678\n",
            "0.7704022988505748\n"
          ]
        }
      ]
    },
    {
      "cell_type": "code",
      "source": [
        "#logistic regression\n",
        "nmc = 250\n",
        "lr = LogisticRegression(penalty=None,max_iter=1000,solver='lbfgs')\n",
        "shuffle = ShuffleSplit(n_splits=nmc, test_size=.25)\n",
        "lr.fit(x,y)\n",
        "CVInfo = cross_validate(lr, x, y, cv=shuffle,return_train_score=True)\n",
        "print(np.mean(CVInfo['train_score']))\n",
        "print(np.mean(CVInfo['test_score']))\n"
      ],
      "metadata": {
        "colab": {
          "base_uri": "https://localhost:8080/"
        },
        "id": "QzkurImSZ081",
        "outputId": "2e1e0bdb-9c5e-4433-f546-04d7fb47d9da"
      },
      "id": "QzkurImSZ081",
      "execution_count": null,
      "outputs": [
        {
          "output_type": "stream",
          "name": "stdout",
          "text": [
            "0.7821763663361594\n",
            "0.7824000000000001\n"
          ]
        }
      ]
    },
    {
      "cell_type": "code",
      "source": [
        "x_train, x_test, y_train, y_test = train_test_split(x,y,test_size=0.25)\n",
        "treemodel = tree.DecisionTreeClassifier(max_depth=4)\n",
        "treemodel.fit(x_train,y_train)\n",
        "\n",
        "y_predict = treemodel.predict(x_test)\n",
        "\n",
        "cmat = pd.DataFrame(\n",
        "    confusion_matrix(y_test, y_predict),\n",
        "    columns=['Predicted No Suicidal Thoughts', 'Predicted Suicidal Thoughts'],\n",
        "    index=['True No Suicidal Thoughts', 'True Suicidal Thoughts']\n",
        ")\n",
        "\n",
        "print(cmat)\n",
        "\n",
        "TP, FP, FN, TN = cmat.values.ravel()\n",
        "\n",
        "\n",
        "FPR = FP / (FP + TN)\n",
        "\n",
        "FNR = FN / (FN + TP)\n",
        "\n",
        "print(\"Type I Error Rate:\", FPR)\n",
        "print(\"Type II Error Rate:\", FNR)"
      ],
      "metadata": {
        "colab": {
          "base_uri": "https://localhost:8080/"
        },
        "id": "5zZV6eEzaPyA",
        "outputId": "49840e06-cfa2-4839-af07-0eb4c4c7bd47"
      },
      "id": "5zZV6eEzaPyA",
      "execution_count": null,
      "outputs": [
        {
          "output_type": "stream",
          "name": "stdout",
          "text": [
            "                           Predicted No Suicidal Thoughts  \\\n",
            "True No Suicidal Thoughts                            1914   \n",
            "True Suicidal Thoughts                                920   \n",
            "\n",
            "                           Predicted Suicidal Thoughts  \n",
            "True No Suicidal Thoughts                          602  \n",
            "True Suicidal Thoughts                            3524  \n",
            "Type I Error Rate: 0.14590402326708676\n",
            "Type II Error Rate: 0.32462949894142556\n"
          ]
        }
      ]
    },
    {
      "cell_type": "code",
      "source": [
        "#feature importance again\n",
        "def plot_feature_importances(model):\n",
        "    n_features = x.shape[1]\n",
        "    plt.barh(range(n_features), model.feature_importances_, align='center')\n",
        "    plt.yticks(np.arange(n_features), x.columns)\n",
        "    plt.xlabel(\"Feature importance\")\n",
        "    plt.ylabel(\"Feature\")\n",
        "    plt.ylim(-1, n_features)\n",
        "\n",
        "plot_feature_importances(treemodel)\n",
        "plt.grid()\n",
        "#print the feature importance of every variable\n",
        "treemodel = tree.DecisionTreeClassifier(max_depth=5)\n",
        "treemodel.fit(x_train,y_train)\n",
        "feature_importances = treemodel.feature_importances_\n",
        "for feature, importance in zip(x.columns, feature_importances):\n",
        "    print(f\"{feature}: {importance:.3f}\")"
      ],
      "metadata": {
        "colab": {
          "base_uri": "https://localhost:8080/",
          "height": 645
        },
        "id": "QKCIQOeDagjw",
        "outputId": "ab0c933d-61d5-40ea-e200-c3a465a53e80"
      },
      "id": "QKCIQOeDagjw",
      "execution_count": null,
      "outputs": [
        {
          "output_type": "stream",
          "name": "stdout",
          "text": [
            "Gender: 0.000\n",
            "Age: 0.004\n",
            "CGPA: 0.005\n",
            "Academic Pressure: 0.000\n",
            "Study Satisfaction: 0.000\n",
            "Dietary Habits: 0.001\n",
            "Work/Study Hours: 0.002\n",
            "Family History: 0.000\n",
            "Avg Sleep Duration: 0.002\n",
            "Depression: 0.984\n",
            "Financial Stress: 0.001\n"
          ]
        },
        {
          "output_type": "display_data",
          "data": {
            "text/plain": [
              "<Figure size 640x480 with 1 Axes>"
            ],
            "image/png": "[encoded data removed]"
          },
          "metadata": {}
        }
      ]
    },
    {
      "cell_type": "markdown",
      "source": [
        "### Part 2: Linear Regression"
      ],
      "metadata": {
        "id": "FvN4G4-9ROON"
      },
      "id": "FvN4G4-9ROON"
    },
    {
      "cell_type": "code",
      "source": [
        "from sklearn.model_selection import train_test_split\n",
        "from sklearn.linear_model import LinearRegression\n",
        "from sklearn.metrics import mean_squared_error, r2_score\n",
        "\n",
        "# Ensure all columns are numeric\n",
        "# Drop rows with missing values if any\n",
        "df = df.dropna()\n",
        "\n",
        "# Select features and target variable\n",
        "X = df.drop(columns=['Depression'])  # Features\n",
        "y = df['Depression']                # Target\n",
        "\n",
        "# Split the data into training and testing sets\n",
        "X_train, X_test, y_train, y_test = train_test_split(X, y, test_size=0.2, random_state=42)\n",
        "\n",
        "# Initialize and train the model\n",
        "model = LinearRegression()\n",
        "model.fit(X_train, y_train)\n",
        "\n",
        "# Make predictions\n",
        "y_pred = model.predict(X_test)\n",
        "\n",
        "# Evaluate the model\n",
        "mse = mean_squared_error(y_test, y_pred)\n",
        "r2 = r2_score(y_test, y_pred)\n",
        "\n",
        "print(f\"Mean Squared Error: {mse}\")\n",
        "print(f\"R-squared: {r2}\")"
      ],
      "metadata": {
        "colab": {
          "base_uri": "https://localhost:8080/"
        },
        "id": "X5zunOgrxi0F",
        "outputId": "2053b4e4-24d5-456c-83f8-a3f4a855dbed"
      },
      "id": "X5zunOgrxi0F",
      "execution_count": null,
      "outputs": [
        {
          "output_type": "stream",
          "name": "stdout",
          "text": [
            "Mean Squared Error: 0.11755391741218062\n",
            "R-squared: 0.5168798816833846\n"
          ]
        }
      ]
    }
  ],
  "metadata": {
    "kernelspec": {
      "display_name": "Python 3 (ipykernel)",
      "language": "python",
      "name": "python3"
    },
    "language_info": {
      "codemirror_mode": {
        "name": "ipython",
        "version": 3
      },
      "file_extension": ".py",
      "mimetype": "text/x-python",
      "name": "python",
      "nbconvert_exporter": "python",
      "pygments_lexer": "ipython3",
      "version": "3.11.7"
    },
    "colab": {
      "provenance": []
    }
  },
  "nbformat": 4,
  "nbformat_minor": 5
}